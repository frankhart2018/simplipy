{
 "cells": [
  {
   "cell_type": "code",
   "execution_count": 1,
   "metadata": {},
   "outputs": [],
   "source": [
    "with open(\"classification-report.txt\", \"r\") as file:\n",
    "    cr = file.read()"
   ]
  },
  {
   "cell_type": "code",
   "execution_count": 2,
   "metadata": {},
   "outputs": [
    {
     "name": "stdout",
     "output_type": "stream",
     "text": [
      "              precision    recall  f1-score   support\n",
      "              \n",
      "    PH050534       0.00      0.00      0.00         6\n",
      "    PH050113       0.93      0.85      0.89        46\n",
      "    PH050860       0.97      0.88      0.92        33\n",
      "    PH050533       0.86      0.33      0.48        18\n",
      "    PH409601       1.00      0.93      0.96        28\n",
      "    PH401020       1.00      0.90      0.95        10\n",
      "    PH401019       0.96      0.96      0.96        23\n",
      "    PP030001       1.00      1.00      1.00        22\n",
      "    PH402850       1.00      0.53      0.69        17\n",
      "    PH000802       1.00      0.31      0.48        16\n",
      "    PH400972       1.00      0.88      0.93         8\n",
      "    PH405242       0.89      1.00      0.94         8\n",
      "    PH050509       1.00      0.83      0.91         6\n",
      "    PH050532       1.00      1.00      1.00         6\n",
      "\n",
      "   micro avg       0.76      0.76      0.76       295\n",
      "   macro avg       0.02      0.01      0.02       295\n",
      "weighted avg       0.92      0.76      0.81       295\n",
      " samples avg       0.76      0.76      0.76       295\n",
      "\n"
     ]
    }
   ],
   "source": [
    "print(cr)"
   ]
  },
  {
   "cell_type": "code",
   "execution_count": 3,
   "metadata": {},
   "outputs": [],
   "source": [
    "from simplipy.sklearn_ import sort_cr_by_support"
   ]
  },
  {
   "cell_type": "code",
   "execution_count": 4,
   "metadata": {},
   "outputs": [
    {
     "name": "stdout",
     "output_type": "stream",
     "text": [
      "              precision    recall  f1-score   support\n",
      "              \n",
      "    PH050113       0.93      0.85      0.89        46\n",
      "    PH050860       0.97      0.88      0.92        33\n",
      "    PH409601       1.00      0.93      0.96        28\n",
      "    PH401019       0.96      0.96      0.96        23\n",
      "    PP030001       1.00      1.00      1.00        22\n",
      "    PH050533       0.86      0.33      0.48        18\n",
      "    PH402850       1.00      0.53      0.69        17\n",
      "    PH000802       1.00      0.31      0.48        16\n",
      "    PH401020       1.00      0.90      0.95        10\n",
      "    PH400972       1.00      0.88      0.93         8\n",
      "    PH405242       0.89      1.00      0.94         8\n",
      "    PH050534       0.00      0.00      0.00         6\n",
      "    PH050509       1.00      0.83      0.91         6\n",
      "    PH050532       1.00      1.00      1.00         6\n",
      "\n",
      "   micro avg       0.76      0.76      0.76       295\n",
      "   macro avg       0.02      0.01      0.02       295\n",
      "weighted avg       0.92      0.76      0.81       295\n",
      " samples avg       0.76      0.76      0.76       295\n",
      "\n"
     ]
    }
   ],
   "source": [
    "print(sort_cr_by_support(cr))"
   ]
  },
  {
   "cell_type": "code",
   "execution_count": null,
   "metadata": {},
   "outputs": [],
   "source": []
  }
 ],
 "metadata": {
  "kernelspec": {
   "display_name": "Python 3",
   "language": "python",
   "name": "python3"
  },
  "language_info": {
   "codemirror_mode": {
    "name": "ipython",
    "version": 3
   },
   "file_extension": ".py",
   "mimetype": "text/x-python",
   "name": "python",
   "nbconvert_exporter": "python",
   "pygments_lexer": "ipython3",
   "version": "3.7.4"
  }
 },
 "nbformat": 4,
 "nbformat_minor": 2
}
